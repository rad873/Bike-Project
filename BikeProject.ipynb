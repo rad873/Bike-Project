{
 "cells": [
  {
   "cell_type": "markdown",
   "metadata": {
    "collapsed": false
   },
   "source": [
    "# DAM\\-I Fall 2022 Group 3 Final Project\n",
    "\n",
    "## Professor: Brandon Bean\n",
    "\n"
   ]
  },
  {
   "cell_type": "markdown",
   "metadata": {
    "collapsed": false
   },
   "source": [
    "### Project Bike Cycles Team Members:\n",
    "\n",
    "**Project Manager/Team Leader:** Karlee Revers, Nebraska Wesleyan University\n",
    "\n",
    "**Data Architect:** Jack Yeates, Wells College\n",
    "\n",
    "**Data Visualization Specialist:** Ruth Hayes, Nebraska Wesleyan University\n",
    "\n",
    "**Data Analyst:** Max Rademacher, Nebraska Wesleyan University\n",
    "\n"
   ]
  },
  {
   "cell_type": "markdown",
   "metadata": {
    "collapsed": false
   },
   "source": [
    "### Project Overview.\n",
    "\n",
    "The Outdoor Performance Center \\(OPC\\) has hired RI2 to assist with its acquisition of a small boutique mountain bike company, Ord Cycles.  You will be required to analyze, join, visualize, and discuss the data in an effort to solve several key questions OPC has about the data as part of its larger acquisition of Ord Cycles. Your project will consist of a 10\\-15 minute video powerpoint presentation and accompanying Jupyter Notebook.\n",
    "\n",
    "\\+the impact of the project \\(step 2\\) & steps 4\\-6 on the assignment?\n",
    "\n"
   ]
  },
  {
   "cell_type": "markdown",
   "metadata": {
    "collapsed": false
   },
   "source": [
    "### Data Overview.\n",
    "\n",
    "Our project includes 14 quantitative and qualitative datasets provided by the OPC in the form of Excel data sheets; there is data on warehouses, suppliers, products, taxes, and orders. There is also a ledger composed of over 2600 customers. Each dataset has at least two attributes, but the largest has 13. We suspect some of the datasets to be closely related. For example, The number of orders should be proportional to the number of returns. \n",
    "\n"
   ]
  },
  {
   "cell_type": "markdown",
   "metadata": {
    "collapsed": false
   },
   "source": [
    "### Exploratory Data Analysis.\n",
    "\n"
   ]
  },
  {
   "cell_type": "markdown",
   "metadata": {
    "collapsed": false
   },
   "source": [
    "Hopefully, sales increase throughout the years. We also expect to see a correlation between the customer's state and the warehouse they received products from. It will be interesting to see how strong customer retention is compared to new customers as well as the most popular bike components or most active states. \n"
   ]
  },
  {
   "cell_type": "markdown",
   "metadata": {
    "collapsed": false
   },
   "source": [
    "### Data Querying.\n",
    "\n"
   ]
  },
  {
   "cell_type": "markdown",
   "metadata": {
    "collapsed": false
   },
   "source": [
    "##### Are OPC mountain bike sales consistent over the available period of data?\n",
    "\n"
   ]
  },
  {
   "cell_type": "code",
   "execution_count": 158,
   "metadata": {
    "collapsed": false
   },
   "outputs": [
   ],
   "source": [
    "from datascience import *\n",
    "import numpy as np\n",
    "from scipy import stats\n",
    "from datetime import date\n",
    "from dateutil.parser import parse\n",
    "import pandas as pd\n",
    "import matplotlib\n",
    "import matplotlib.pyplot as plt\n",
    "%matplotlib inline\n",
    "plt.style.use('fivethirtyeight')\n"
   ]
  },
  {
   "cell_type": "code",
   "execution_count": 37,
   "metadata": {
    "collapsed": false,
    "scrolled": true
   },
   "outputs": [
    {
     "data": {
      "text/html": [
       "<table border=\"1\" class=\"dataframe\">\n",
       "    <thead>\n",
       "        <tr>\n",
       "            <th>ord_date</th> <th>order_tot sum</th>\n",
       "        </tr>\n",
       "    </thead>\n",
       "    <tbody>\n",
       "        <tr>\n",
       "            <td>2000    </td> <td>728574       </td>\n",
       "        </tr>\n",
       "        <tr>\n",
       "            <td>2001    </td> <td>696021       </td>\n",
       "        </tr>\n",
       "        <tr>\n",
       "            <td>2002    </td> <td>565160       </td>\n",
       "        </tr>\n",
       "        <tr>\n",
       "            <td>2003    </td> <td>523463       </td>\n",
       "        </tr>\n",
       "        <tr>\n",
       "            <td>2004    </td> <td>577862       </td>\n",
       "        </tr>\n",
       "        <tr>\n",
       "            <td>2005    </td> <td>635804       </td>\n",
       "        </tr>\n",
       "        <tr>\n",
       "            <td>2006    </td> <td>754774       </td>\n",
       "        </tr>\n",
       "        <tr>\n",
       "            <td>2007    </td> <td>598245       </td>\n",
       "        </tr>\n",
       "        <tr>\n",
       "            <td>2008    </td> <td>607584       </td>\n",
       "        </tr>\n",
       "        <tr>\n",
       "            <td>2009    </td> <td>651428       </td>\n",
       "        </tr>\n",
       "        <tr>\n",
       "            <td>2010    </td> <td>655375       </td>\n",
       "        </tr>\n",
       "        <tr>\n",
       "            <td>2011    </td> <td>630546       </td>\n",
       "        </tr>\n",
       "        <tr>\n",
       "            <td>2012    </td> <td>610428       </td>\n",
       "        </tr>\n",
       "        <tr>\n",
       "            <td>2013    </td> <td>637818       </td>\n",
       "        </tr>\n",
       "        <tr>\n",
       "            <td>2014    </td> <td>534454       </td>\n",
       "        </tr>\n",
       "        <tr>\n",
       "            <td>2015    </td> <td>652318       </td>\n",
       "        </tr>\n",
       "        <tr>\n",
       "            <td>2016    </td> <td>602895       </td>\n",
       "        </tr>\n",
       "        <tr>\n",
       "            <td>2017    </td> <td>641077       </td>\n",
       "        </tr>\n",
       "        <tr>\n",
       "            <td>2018    </td> <td>642704       </td>\n",
       "        </tr>\n",
       "        <tr>\n",
       "            <td>2019    </td> <td>558094       </td>\n",
       "        </tr>\n",
       "    </tbody>\n",
       "</table>"
      ],
      "text/plain": [
       "<IPython.core.display.HTML object>"
      ]
     },
     "execution_count": 37,
     "metadata": {
     },
     "output_type": "execute_result"
    }
   ],
   "source": [
    "def left(s, length):\n",
    "    return str(s[:length])\n",
    "\n",
    "orders = Table.read_table(\"orders.csv\")\n",
    "years = orders.column(\"ord_date\")\n",
    "\n",
    "list = []\n",
    "for item in years:\n",
    "    list.append(left(item,4))\n",
    "\n",
    "\n",
    "orders = Table.read_table(\"orders.csv\")\n",
    "order_consistency = Table().with_columns(\n",
    "    \"ord_date\", list,\n",
    "    \"order_tot\", orders.column(\"order_tot\"))\n",
    "final = order_consistency.group(\"ord_date\",sum).show()"
   ]
  },
  {
   "cell_type": "code",
   "execution_count": 38,
   "metadata": {
    "collapsed": false
   },
   "outputs": [
    {
     "data": {
      "image/png": "[encoded data removed]",
      "text/plain": [
       "<Figure size 360x360 with 1 Axes>"
      ]
     },
     "execution_count": 38,
     "metadata": {
      "image/png": {
       "height": 343,
       "width": 413
      }
     },
     "output_type": "execute_result"
    }
   ],
   "source": [
    "order_consistency_plots = orders.sample(100)\n",
    "order_consistency_plots.scatter(\"ord_date\",\"order_tot\")"
   ]
  },
  {
   "cell_type": "markdown",
   "metadata": {
    "collapsed": false
   },
   "source": [
    "It looks like over the nearly 20 years of data, sales were very consistent. \n",
    "\n"
   ]
  },
  {
   "cell_type": "markdown",
   "metadata": {
    "collapsed": false
   },
   "source": [
    "##### What is the most popular configuration \\(Brand and components\\) of mountain bikes sold by OPC over the available period? What are the most/least successful bikes?\n",
    "\n"
   ]
  },
  {
   "cell_type": "code",
   "execution_count": 0,
   "metadata": {
    "collapsed": false,
    "scrolled": true
   },
   "outputs": [
   ],
   "source": [
   ]
  },
  {
   "cell_type": "code",
   "execution_count": 185,
   "metadata": {
    "collapsed": false
   },
   "outputs": [
    {
     "data": {
      "text/plain": [
       "{'handlebar': 45,\n",
       " 'brake': 24,\n",
       " 'wheel': 42,\n",
       " 'fork': 56,\n",
       " 'shock': 30,\n",
       " 'shifter': 10,\n",
       " 'cassette': 9,\n",
       " 'derailleur': 8,\n",
       " 'dropper': 29,\n",
       " 'chain_ring': 17,\n",
       " 'Missing Sku': 1,\n",
       " 'nan': 1}"
      ]
     },
     "execution_count": 185,
     "metadata": {
     },
     "output_type": "execute_result"
    }
   ],
   "source": [
    "#configurations best/worst\n",
    "Configuration_components = components.column(\"comp_cat\")\n",
    "def letterFrequencies(words):\n",
    "    d= dict()\n",
    "    for k in words:\n",
    "        if k in d.keys():\n",
    "            d[k]+= 1\n",
    "        else:\n",
    "            d[k]= 1\n",
    "    return d\n",
    "letterFrequencies(Configuration_components)"
   ]
  },
  {
   "cell_type": "code",
   "execution_count": 189,
   "metadata": {
    "collapsed": false
   },
   "outputs": [
    {
     "data": {
      "text/plain": [
       "{57: 43,\n",
       " 42: 38,\n",
       " 41: 40,\n",
       " 15: 40,\n",
       " 36: 29,\n",
       " 35: 46,\n",
       " 43: 40,\n",
       " 10: 23,\n",
       " 40: 44,\n",
       " 49: 38,\n",
       " 25: 35,\n",
       " 58: 45,\n",
       " 2: 32,\n",
       " 59: 48,\n",
       " 69: 42,\n",
       " 3: 37,\n",
       " 60: 50,\n",
       " 53: 34,\n",
       " 23: 43,\n",
       " 54: 26,\n",
       " 16: 35,\n",
       " 31: 49,\n",
       " 38: 34,\n",
       " 6: 35,\n",
       " 14: 37,\n",
       " 61: 40,\n",
       " 56: 38,\n",
       " 63: 42,\n",
       " 46: 39,\n",
       " 47: 49,\n",
       " 1: 42,\n",
       " 8: 31,\n",
       " 39: 47,\n",
       " 17: 35,\n",
       " 18: 30,\n",
       " 12: 29,\n",
       " 66: 37,\n",
       " 28: 24,\n",
       " 11: 40,\n",
       " 32: 36,\n",
       " 7: 39,\n",
       " 13: 31,\n",
       " 62: 35,\n",
       " 21: 37,\n",
       " 44: 42,\n",
       " 64: 41,\n",
       " 68: 34,\n",
       " 65: 35,\n",
       " 48: 37,\n",
       " 19: 40,\n",
       " 5: 34,\n",
       " 33: 34,\n",
       " 37: 36,\n",
       " 27: 47,\n",
       " 4: 29,\n",
       " 52: 37,\n",
       " 22: 36,\n",
       " 45: 32,\n",
       " 51: 34,\n",
       " 9: 31,\n",
       " 30: 43,\n",
       " 20: 35,\n",
       " 24: 45,\n",
       " 67: 36,\n",
       " 50: 40,\n",
       " 55: 37,\n",
       " 26: 37,\n",
       " 34: 51,\n",
       " 29: 32}"
      ]
     },
     "execution_count": 189,
     "metadata": {
     },
     "output_type": "execute_result"
    }
   ],
   "source": [
    "#most/ least popular bikes\n",
    "bikes=orders.column(\"prod_id\")\n",
    "letterFrequencies(bikes)\n"
   ]
  },
  {
   "cell_type": "markdown",
   "metadata": {
    "collapsed": false
   },
   "source": [
    "##### What distribution issues are there, if any, within the OPC warehouses?\n",
    "\n"
   ]
  },
  {
   "cell_type": "code",
   "execution_count": 4,
   "metadata": {
    "collapsed": false
   },
   "outputs": [
    {
     "data": {
      "text/html": [
       "<table border=\"1\" class=\"dataframe\">\n",
       "    <thead>\n",
       "        <tr>\n",
       "            <th>warehouse_id</th> <th>count</th>\n",
       "        </tr>\n",
       "    </thead>\n",
       "    <tbody>\n",
       "        <tr>\n",
       "            <td>1           </td> <td>884  </td>\n",
       "        </tr>\n",
       "        <tr>\n",
       "            <td>2           </td> <td>859  </td>\n",
       "        </tr>\n",
       "        <tr>\n",
       "            <td>3           </td> <td>856  </td>\n",
       "        </tr>\n",
       "    </tbody>\n",
       "</table>"
      ],
      "text/plain": [
       "warehouse_id | count\n",
       "1            | 884\n",
       "2            | 859\n",
       "3            | 856"
      ]
     },
     "execution_count": 4,
     "metadata": {
     },
     "output_type": "execute_result"
    }
   ],
   "source": [
    "warehouse_orders = Table.read_table(\"customerwarehouseorders.csv\")\n",
    "warehouse_volume = warehouse_orders.group(\"warehouse_id\")\n",
    "warehouse_volume"
   ]
  },
  {
   "cell_type": "markdown",
   "metadata": {
    "collapsed": false
   },
   "source": [
    "None of the warehouses are used disproportionately \\(assuming each warehouse has the facilities to handle the same workload\\). Additionally, we need to investigate whether warehouses are delivering to outside of their natural jurisdictions. \n",
    "\n"
   ]
  },
  {
   "cell_type": "markdown",
   "metadata": {
    "collapsed": false
   },
   "source": [
    "##### What are the total amounts of inventory processed by the OPC warehouses over the reported period?\n",
    "\n"
   ]
  },
  {
   "cell_type": "code",
   "execution_count": 5,
   "metadata": {
    "collapsed": false
   },
   "outputs": [
    {
     "data": {
      "text/plain": [
       "2599"
      ]
     },
     "execution_count": 5,
     "metadata": {
     },
     "output_type": "execute_result"
    }
   ],
   "source": [
    "warehouse_orders = Table.read_table(\"customerwarehouseorders.csv\")\n",
    "inventory_processed = len(warehouse_orders.column(\"ord_id\"))\n",
    "inventory_processed"
   ]
  },
  {
   "cell_type": "markdown",
   "metadata": {
    "collapsed": false
   },
   "source": [
    "##### What warehouses, if any, are shipping orders from outside their region?\n",
    "\n"
   ]
  },
  {
   "cell_type": "code",
   "execution_count": 103,
   "metadata": {
    "collapsed": false
   },
   "outputs": [
    {
     "name": "stderr",
     "output_type": "stream",
     "text": [
      "/usr/local/lib/python3.8/dist-packages/datascience/tables.py:920: VisibleDeprecationWarning: Creating an ndarray from ragged nested sequences (which is a list-or-tuple of lists-or-tuples-or ndarrays with different lengths or shapes) is deprecated. If you meant to do this, you must specify 'dtype=object' when creating the ndarray.\n",
      "  values = np.array(tuple(values))\n"
     ]
    },
    {
     "data": {
      "text/html": [
       "<table border=\"1\" class=\"dataframe\">\n",
       "    <thead>\n",
       "        <tr>\n",
       "            <th>Warehouse & State Table</th> <th>1</th> <th>2</th> <th>3</th> <th>4</th> <th>5</th> <th>6</th> <th>7</th> <th>8</th> <th>9</th> <th>10</th> <th>11</th> <th>12</th> <th>13</th> <th>14</th> <th>15</th> <th>16</th> <th>17</th> <th>18</th> <th>19</th> <th>20</th> <th>21</th> <th>22</th> <th>23</th> <th>24</th> <th>25</th> <th>26</th> <th>27</th> <th>28</th> <th>29</th> <th>30</th>\n",
       "        </tr>\n",
       "    </thead>\n",
       "    <tbody>\n",
       "        <tr>\n",
       "            <td>1                      </td> <td>32  </td> <td>29  </td> <td>30  </td> <td>27  </td> <td>27  </td> <td>28  </td> <td>26  </td> <td>25  </td> <td>32  </td> <td>36  </td> <td>30  </td> <td>21  </td> <td>29  </td> <td>29  </td> <td>33  </td> <td>25  </td> <td>25  </td> <td>19  </td> <td>33  </td> <td>36  </td> <td>29  </td> <td>30  </td> <td>32  </td> <td>28  </td> <td>22  </td> <td>38  </td> <td>34  </td> <td>34  </td> <td>28  </td> <td>37  </td>\n",
       "        </tr>\n",
       "        <tr>\n",
       "            <td>2                      </td> <td>26  </td> <td>21  </td> <td>23  </td> <td>23  </td> <td>26  </td> <td>35  </td> <td>33  </td> <td>22  </td> <td>24  </td> <td>24  </td> <td>25  </td> <td>34  </td> <td>26  </td> <td>38  </td> <td>32  </td> <td>36  </td> <td>33  </td> <td>31  </td> <td>29  </td> <td>29  </td> <td>31  </td> <td>40  </td> <td>26  </td> <td>31  </td> <td>21  </td> <td>38  </td> <td>23  </td> <td>25  </td> <td>36  </td> <td>18  </td>\n",
       "        </tr>\n",
       "        <tr>\n",
       "            <td>3                      </td> <td>26  </td> <td>23  </td> <td>34  </td> <td>22  </td> <td>28  </td> <td>28  </td> <td>34  </td> <td>33  </td> <td>31  </td> <td>33  </td> <td>21  </td> <td>32  </td> <td>32  </td> <td>30  </td> <td>24  </td> <td>37  </td> <td>29  </td> <td>25  </td> <td>22  </td> <td>22  </td> <td>30  </td> <td>19  </td> <td>32  </td> <td>33  </td> <td>28  </td> <td>26  </td> <td>30  </td> <td>33  </td> <td>31  </td> <td>28  </td>\n",
       "        </tr>\n",
       "    </tbody>\n",
       "</table>"
      ],
      "text/plain": [
       "Warehouse & State Table | 1    | 2    | 3    | 4    | 5    | 6    | 7    | 8    | 9    | 10   | 11   | 12   | 13   | 14   | 15   | 16   | 17   | 18   | 19   | 20   | 21   | 22   | 23   | 24   | 25   | 26   | 27   | 28   | 29   | 30\n",
       "1                       | 32   | 29   | 30   | 27   | 27   | 28   | 26   | 25   | 32   | 36   | 30   | 21   | 29   | 29   | 33   | 25   | 25   | 19   | 33   | 36   | 29   | 30   | 32   | 28   | 22   | 38   | 34   | 34   | 28   | 37\n",
       "2                       | 26   | 21   | 23   | 23   | 26   | 35   | 33   | 22   | 24   | 24   | 25   | 34   | 26   | 38   | 32   | 36   | 33   | 31   | 29   | 29   | 31   | 40   | 26   | 31   | 21   | 38   | 23   | 25   | 36   | 18\n",
       "3                       | 26   | 23   | 34   | 22   | 28   | 28   | 34   | 33   | 31   | 33   | 21   | 32   | 32   | 30   | 24   | 37   | 29   | 25   | 22   | 22   | 30   | 19   | 32   | 33   | 28   | 26   | 30   | 33   | 31   | 28"
      ]
     },
     "execution_count": 103,
     "metadata": {
     },
     "output_type": "execute_result"
    }
   ],
   "source": [
    "#Instructor comment: Try doing a pivot table on your joined table where the warehouse is shown in the left (y) column, and the states are shown in the right (X) columns. Then you can relabel the warehouse_id to teh state digraph.\n",
    "\n",
    "#I grouped cus_id, cus_state, and warehouse_id together which should help to identify shipping orders\n",
    "customers = Table.read_table(\"customers.csv\")\n",
    "states = customers.select(\"cus_id\",\"cus_state\")\n",
    "states_and_orders = orders.join(\"cus_id\",states)\n",
    "#states_and_orders.select(\"cus_id\",\"cus_state\",\"warehouse_id\").where(\"cus_state\",are.equal_to(6)).group(\"warehouse_id\")\n",
    "#warehouse 1 is in CA (west coastish), wh 2 is in TX (midwestish), wh 3 is in OH (east coastish)\n",
    "states_and_orders.pivot(\"cus_state\",\"warehouse_id\").relabeled(\"warehouse_id\",\"Warehouse & State Table\")\n",
    "\n",
    "#should we group/sort by warehouse_id to see where most of them deliver?\n",
    "#count wh_id: 1-884, 2-859, 3-856\n",
    "\n",
    "#region_array = make_array(1,2,1,1,2,3,3,2,2,1,2,3,2,3,2,3,2,3,2,3,1,3,3,3,2,1,3,1,3,1,2)\n",
    "#relevantly: state 1 is AK= wh_id 1,state 2 is AL= wh_id 2, state 6 is CT= wh_id 3\n",
    "#wrong warehouses: AK1-52 total from 2&3, AL2-52 total from 1&3, CT3-56 total from 1&2\n",
    "\n",
    "#so the answer to the question is all of them"
   ]
  },
  {
   "cell_type": "markdown",
   "metadata": {
    "collapsed": false
   },
   "source": [
    "All the warehouses are shipping orders from outside their region. Each warehouse ships to every state, in a fairly even distribution spread.\n",
    "\n"
   ]
  },
  {
   "cell_type": "markdown",
   "metadata": {
    "collapsed": false
   },
   "source": [
    "##### What is the ratio of customer join date to first order? How many customers waited longer than one week to order a bike after joining?\n",
    "\n"
   ]
  },
  {
   "cell_type": "code",
   "execution_count": 179,
   "metadata": {
    "collapsed": false
   },
   "outputs": [
    {
     "data": {
      "text/html": [
       "<table border=\"1\" class=\"dataframe\">\n",
       "    <thead>\n",
       "        <tr>\n",
       "            <th>cus_id</th> <th>ord_date</th> <th>cus_join_date</th>\n",
       "        </tr>\n",
       "    </thead>\n",
       "    <tbody>\n",
       "        <tr>\n",
       "            <td>1     </td> <td>2019-05-05</td> <td>2007-06-07   </td>\n",
       "        </tr>\n",
       "        <tr>\n",
       "            <td>2     </td> <td>2006-11-10</td> <td>2005-02-28   </td>\n",
       "        </tr>\n",
       "        <tr>\n",
       "            <td>3     </td> <td>2014-08-31</td> <td>2014-03-20   </td>\n",
       "        </tr>\n",
       "        <tr>\n",
       "            <td>4     </td> <td>2011-02-03</td> <td>2010-09-25   </td>\n",
       "        </tr>\n",
       "        <tr>\n",
       "            <td>5     </td> <td>2017-01-19</td> <td>2004-04-29   </td>\n",
       "        </tr>\n",
       "        <tr>\n",
       "            <td>6     </td> <td>2002-03-30</td> <td>2007-01-06   </td>\n",
       "        </tr>\n",
       "        <tr>\n",
       "            <td>7     </td> <td>2011-01-08</td> <td>2009-08-08   </td>\n",
       "        </tr>\n",
       "        <tr>\n",
       "            <td>8     </td> <td>2003-03-26</td> <td>2016-09-24   </td>\n",
       "        </tr>\n",
       "        <tr>\n",
       "            <td>9     </td> <td>2019-03-09</td> <td>2019-05-03   </td>\n",
       "        </tr>\n",
       "        <tr>\n",
       "            <td>10    </td> <td>2015-10-14</td> <td>2019-06-14   </td>\n",
       "        </tr>\n",
       "    </tbody>\n",
       "</table>\n",
       "<p>... (2589 rows omitted)</p>"
      ],
      "text/plain": [
       "cus_id | ord_date   | cus_join_date\n",
       "1      | 2019-05-05 | 2007-06-07\n",
       "2      | 2006-11-10 | 2005-02-28\n",
       "3      | 2014-08-31 | 2014-03-20\n",
       "4      | 2011-02-03 | 2010-09-25\n",
       "5      | 2017-01-19 | 2004-04-29\n",
       "6      | 2002-03-30 | 2007-01-06\n",
       "7      | 2011-01-08 | 2009-08-08\n",
       "8      | 2003-03-26 | 2016-09-24\n",
       "9      | 2019-03-09 | 2019-05-03\n",
       "10     | 2015-10-14 | 2019-06-14\n",
       "... (2589 rows omitted)"
      ]
     },
     "execution_count": 179,
     "metadata": {
     },
     "output_type": "execute_result"
    }
   ],
   "source": [
    "order_date = orders.select(\"ord_date\", \"cus_id\")\n",
    "join_date = customers.select(\"cus_join_date\", \"cus_id\")\n",
    "join_and_order = order_date.join(\"cus_id\",join_date)\n",
    "\n",
    "order_dates = join_and_order.select(\"ord_date\")\n",
    "join_dates = join_and_order.select(\"cus_join_date\")\n",
    "order_dates_array = order_dates.column(0)\n",
    "join_dates_array = join_dates.column(0)\n",
    "join_and_order\n",
    "\n",
    "#join_and_order.group(\"cus_id\").where(\"count\",are.above(1))\n",
    "#cus_id 1728 & 1731 both appear twice"
   ]
  },
  {
   "cell_type": "code",
   "execution_count": 190,
   "metadata": {
    "collapsed": false
   },
   "outputs": [
    {
     "data": {
      "text/html": [
       "<table border=\"1\" class=\"dataframe\">\n",
       "    <thead>\n",
       "        <tr>\n",
       "            <th>cus_id</th> <th>ord_date</th> <th>cus_join_date</th> <th>days_since_joining</th>\n",
       "        </tr>\n",
       "    </thead>\n",
       "    <tbody>\n",
       "        <tr>\n",
       "            <td>173   </td> <td>2005-07-25</td> <td>2005-07-20   </td> <td>5                 </td>\n",
       "        </tr>\n",
       "        <tr>\n",
       "            <td>555   </td> <td>2005-07-05</td> <td>2005-07-03   </td> <td>2                 </td>\n",
       "        </tr>\n",
       "        <tr>\n",
       "            <td>1490  </td> <td>2018-04-07</td> <td>2018-04-01   </td> <td>6                 </td>\n",
       "        </tr>\n",
       "    </tbody>\n",
       "</table>"
      ],
      "text/plain": [
       "cus_id | ord_date   | cus_join_date | days_since_joining\n",
       "173    | 2005-07-25 | 2005-07-20    | 5\n",
       "555    | 2005-07-05 | 2005-07-03    | 2\n",
       "1490   | 2018-04-07 | 2018-04-01    | 6"
      ]
     },
     "execution_count": 190,
     "metadata": {
     },
     "output_type": "execute_result"
    }
   ],
   "source": [
    "def days_since(ord_date,cus_join_date):\n",
    "    ord_date = parse(ord_date)\n",
    "    cus_join_date = parse(cus_join_date)\n",
    "    days_since_join = ord_date - cus_join_date\n",
    "    return days_since_join.days\n",
    "\n",
    "long_days = join_and_order.with_column(\n",
    "    \"days_since_joining\", join_and_order.apply(days_since, \"ord_date\",\"cus_join_date\")\n",
    ")\n",
    "\n",
    "long_days.where(\"days_since_joining\", are.between(0,8))\n",
    "#long_days.where(\">1_week\", are.above(7)).where(\"cus_id\",are.equal_to(\"1728\"))\n",
    "#1728 - none\n",
    "#1731 - none\n",
    "\n",
    "#1223 + 10 rows = 1233 customers! out of 2597\n",
    "#1233/2597 = .47477859 -> 47.48%\n",
    "#so a little under half do it over a week later!"
   ]
  },
  {
   "cell_type": "markdown",
   "metadata": {
    "collapsed": false
   },
   "source": [
    "##### What are the customer orders by State \\(count/cost\\)?\n",
    "\n"
   ]
  },
  {
   "cell_type": "code",
   "execution_count": 150,
   "metadata": {
    "collapsed": false
   },
   "outputs": [
    {
     "data": {
      "text/html": [
       "<table border=\"1\" class=\"dataframe\">\n",
       "    <thead>\n",
       "        <tr>\n",
       "            <th>state</th> <th>count</th> <th>total</th> <th>cost/count</th>\n",
       "        </tr>\n",
       "    </thead>\n",
       "    <tbody>\n",
       "        <tr>\n",
       "            <td>20   </td> <td>88   </td> <td>1.70225e+06</td> <td>19343.8   </td>\n",
       "        </tr>\n",
       "        <tr>\n",
       "            <td>27   </td> <td>87   </td> <td>1.67777e+06</td> <td>19284.7   </td>\n",
       "        </tr>\n",
       "        <tr>\n",
       "            <td>29   </td> <td>95   </td> <td>1.81748e+06</td> <td>19131.3   </td>\n",
       "        </tr>\n",
       "        <tr>\n",
       "            <td>2    </td> <td>73   </td> <td>1.39614e+06</td> <td>19125.1   </td>\n",
       "        </tr>\n",
       "        <tr>\n",
       "            <td>4    </td> <td>73   </td> <td>1.37504e+06</td> <td>18836.1   </td>\n",
       "        </tr>\n",
       "        <tr>\n",
       "            <td>21   </td> <td>90   </td> <td>1.69008e+06</td> <td>18778.6   </td>\n",
       "        </tr>\n",
       "        <tr>\n",
       "            <td>11   </td> <td>76   </td> <td>1.42424e+06</td> <td>18740     </td>\n",
       "        </tr>\n",
       "        <tr>\n",
       "            <td>6    </td> <td>91   </td> <td>1.69968e+06</td> <td>18677.8   </td>\n",
       "        </tr>\n",
       "        <tr>\n",
       "            <td>23   </td> <td>91   </td> <td>1.68744e+06</td> <td>18543.3   </td>\n",
       "        </tr>\n",
       "        <tr>\n",
       "            <td>22   </td> <td>91   </td> <td>1.67681e+06</td> <td>18426.5   </td>\n",
       "        </tr>\n",
       "        <tr>\n",
       "            <td>14   </td> <td>97   </td> <td>1.77942e+06</td> <td>18344.5   </td>\n",
       "        </tr>\n",
       "        <tr>\n",
       "            <td>10   </td> <td>93   </td> <td>1.7041e+06 </td> <td>18323.7   </td>\n",
       "        </tr>\n",
       "        <tr>\n",
       "            <td>3    </td> <td>87   </td> <td>1.58611e+06</td> <td>18231.2   </td>\n",
       "        </tr>\n",
       "        <tr>\n",
       "            <td>17   </td> <td>88   </td> <td>1.60385e+06</td> <td>18225.6   </td>\n",
       "        </tr>\n",
       "        <tr>\n",
       "            <td>8    </td> <td>80   </td> <td>1.45006e+06</td> <td>18125.8   </td>\n",
       "        </tr>\n",
       "        <tr>\n",
       "            <td>12   </td> <td>87   </td> <td>1.5769e+06 </td> <td>18125.3   </td>\n",
       "        </tr>\n",
       "        <tr>\n",
       "            <td>16   </td> <td>99   </td> <td>1.78204e+06</td> <td>18000.4   </td>\n",
       "        </tr>\n",
       "        <tr>\n",
       "            <td>5    </td> <td>81   </td> <td>1.45527e+06</td> <td>17966.3   </td>\n",
       "        </tr>\n",
       "        <tr>\n",
       "            <td>30   </td> <td>83   </td> <td>1.48738e+06</td> <td>17920.3   </td>\n",
       "        </tr>\n",
       "        <tr>\n",
       "            <td>7    </td> <td>93   </td> <td>1.66224e+06</td> <td>17873.5   </td>\n",
       "        </tr>\n",
       "        <tr>\n",
       "            <td>26   </td> <td>103  </td> <td>1.83341e+06</td> <td>17800.1   </td>\n",
       "        </tr>\n",
       "        <tr>\n",
       "            <td>15   </td> <td>90   </td> <td>1.59785e+06</td> <td>17753.9   </td>\n",
       "        </tr>\n",
       "        <tr>\n",
       "            <td>1    </td> <td>83   </td> <td>1.46854e+06</td> <td>17693.3   </td>\n",
       "        </tr>\n",
       "        <tr>\n",
       "            <td>13   </td> <td>87   </td> <td>1.52154e+06</td> <td>17488.9   </td>\n",
       "        </tr>\n",
       "        <tr>\n",
       "            <td>18   </td> <td>76   </td> <td>1.32583e+06</td> <td>17445.2   </td>\n",
       "        </tr>\n",
       "        <tr>\n",
       "            <td>19   </td> <td>91   </td> <td>1.57707e+06</td> <td>17330.4   </td>\n",
       "        </tr>\n",
       "        <tr>\n",
       "            <td>25   </td> <td>73   </td> <td>1.22771e+06</td> <td>16817.9   </td>\n",
       "        </tr>\n",
       "        <tr>\n",
       "            <td>28   </td> <td>93   </td> <td>1.54844e+06</td> <td>16649.9   </td>\n",
       "        </tr>\n",
       "        <tr>\n",
       "            <td>9    </td> <td>89   </td> <td>1.45394e+06</td> <td>16336.5   </td>\n",
       "        </tr>\n",
       "        <tr>\n",
       "            <td>24   </td> <td>91   </td> <td>1.47066e+06</td> <td>16161.1   </td>\n",
       "        </tr>\n",
       "    </tbody>\n",
       "</table>"
      ],
      "text/plain": [
       "<IPython.core.display.HTML object>"
      ]
     },
     "execution_count": 150,
     "metadata": {
     },
     "output_type": "execute_result"
    }
   ],
   "source": [
    "count_by_state = customers.select(\"cus_state\", \"tot_ord_value\").group(\"cus_state\")\n",
    "sum_by_state = customers.select(\"cus_state\", \"tot_ord_value\").group(\"cus_state\",sum)\n",
    "orders_by_state = Table().with_columns(\n",
    "    \"state\", sum_by_state.column(\"cus_state\"),\n",
    "    \"count\", count_by_state.column(\"count\"),\n",
    "    \"total\", sum_by_state.column(\"tot_ord_value sum\"),\n",
    "    \"cost/count\", sum_by_state.column(\"tot_ord_value sum\")/count_by_state.column(\"count\"))\n",
    "orders_by_state.sort(\"cost/count\",descending = True).show()"
   ]
  },
  {
   "cell_type": "markdown",
   "metadata": {
    "collapsed": false
   },
   "source": [
    "**Create a new column in the customer table and identify customers as potential churners using the following metrics:**\n",
    "\n",
    "Risk: Potential; Returns: 3\\+; Returns value: 1000.00\\+\n",
    "\n",
    "Risk: Moderate; Returns: 2\\-3; Returns value: 500.00\\-999.99\n",
    "\n",
    "Risk: Low; Returns: 1\\-; Returns value: 0\\-499.99\n"
   ]
  },
  {
   "cell_type": "code",
   "execution_count": 12,
   "metadata": {
    "collapsed": false,
    "scrolled": true
   },
   "outputs": [
    {
     "data": {
      "text/html": [
       "<table border=\"1\" class=\"dataframe\">\n",
       "    <thead>\n",
       "        <tr>\n",
       "            <th>cus_id</th> <th>cus_num</th> <th>cus_last_name</th> <th>cus_first_name</th> <th>cus_add_num</th> <th>cus_address</th> <th>cus_city</th> <th>cus_state</th> <th>cus_zip</th> <th>cus_phone</th> <th>cus_join_date</th> <th>cus_app_cd</th> <th>cus_app_num</th> <th>tot_ord_qty</th> <th>tot_ord_value</th>\n",
       "        </tr>\n",
       "    </thead>\n",
       "    <tbody>\n",
       "        <tr>\n",
       "            <td>2600  </td> <td>nan    </td> <td>Holzer       </td> <td>Yeni          </td> <td>8617       </td> <td>High Noon Street     </td> <td>Hattiesburg   </td> <td>17       </td> <td>39401  </td> <td>7833472627</td> <td>2020-11-22   </td> <td>5         </td> <td>OPC85554622</td> <td>60         </td> <td>10641.5      </td>\n",
       "        </tr>\n",
       "        <tr>\n",
       "            <td>2601  </td> <td>nan    </td> <td>Hull         </td> <td>Tancredo      </td> <td>7673       </td> <td>Cedat Camp Road      </td> <td>Oswego        </td> <td>19       </td> <td>13126  </td> <td>5154255063</td> <td>2020-04-19   </td> <td>9         </td> <td>OPC86688258</td> <td>49         </td> <td>24585.6      </td>\n",
       "        </tr>\n",
       "        <tr>\n",
       "            <td>2602  </td> <td>nan    </td> <td>Sokol        </td> <td>Teodor        </td> <td>965        </td> <td>Southampton          </td> <td>Salt Lake City</td> <td>26       </td> <td>84119  </td> <td>8802052764</td> <td>2020-04-15   </td> <td>14        </td> <td>OPC87710870</td> <td>48         </td> <td>8514.29      </td>\n",
       "        </tr>\n",
       "        <tr>\n",
       "            <td>2603  </td> <td>nan    </td> <td>Barnes       </td> <td>Theo          </td> <td>270        </td> <td>High Noon Ave        </td> <td>Coram         </td> <td>19       </td> <td>11727  </td> <td>2779494240</td> <td>2020-09-14   </td> <td>18        </td> <td>OPC78993136</td> <td>76         </td> <td>19173.1      </td>\n",
       "        </tr>\n",
       "        <tr>\n",
       "            <td>2604  </td> <td>nan    </td> <td>Tempest      </td> <td>Simone        </td> <td>751        </td> <td>East Shadow Brook Dr.</td> <td>Pataskala     </td> <td>20       </td> <td>43062  </td> <td>7692163675</td> <td>2020-06-24   </td> <td>11        </td> <td>OPC86812641</td> <td>45         </td> <td>27325.7      </td>\n",
       "        </tr>\n",
       "        <tr>\n",
       "            <td>2605  </td> <td>nan    </td> <td>Bullock      </td> <td>Pankaj        </td> <td>7524       </td> <td>Van Dyke St.         </td> <td>Southampton   </td> <td>22       </td> <td>18966  </td> <td>2812450867</td> <td>2020-03-20   </td> <td>3         </td> <td>OPC85939415</td> <td>11         </td> <td>1214.88      </td>\n",
       "        </tr>\n",
       "        <tr>\n",
       "            <td>2606  </td> <td>nan    </td> <td>Ware         </td> <td>Reina         </td> <td>656        </td> <td>Grand Ave            </td> <td>Los Angeles   </td> <td>4        </td> <td>90008  </td> <td>3902290668</td> <td>2020-09-21   </td> <td>6         </td> <td>OPC86472716</td> <td>64         </td> <td>6718.85      </td>\n",
       "        </tr>\n",
       "        <tr>\n",
       "            <td>2607  </td> <td>nan    </td> <td>Ray          </td> <td>Rosalin       </td> <td>8564       </td> <td>Old Woodland Rd      </td> <td>Cranston      </td> <td>23       </td> <td>2920   </td> <td>7944432375</td> <td>2020-06-06   </td> <td>9         </td> <td>OPC87091916</td> <td>43         </td> <td>14012.6      </td>\n",
       "        </tr>\n",
       "        <tr>\n",
       "            <td>2608  </td> <td>nan    </td> <td>Stark        </td> <td>Herb          </td> <td>7291       </td> <td>Race St.             </td> <td>Ithaca        </td> <td>19       </td> <td>14850  </td> <td>2978433949</td> <td>2020-06-27   </td> <td>5         </td> <td>OPC87321099</td> <td>28         </td> <td>4054.52      </td>\n",
       "        </tr>\n",
       "        <tr>\n",
       "            <td>2609  </td> <td>nan    </td> <td>Bohme        </td> <td>Bohuslav      </td> <td>135        </td> <td>Homewood Ln          </td> <td>Merrimack     </td> <td>19       </td> <td>3054   </td> <td>3147113467</td> <td>2020-12-12   </td> <td>19        </td> <td>OPC86853764</td> <td>96         </td> <td>15178.4      </td>\n",
       "        </tr>\n",
       "    </tbody>\n",
       "</table>\n",
       "<p>... (2609 rows omitted)</p>"
      ],
      "text/plain": [
       "cus_id | cus_num | cus_last_name | cus_first_name | cus_add_num | cus_address           | cus_city       | cus_state | cus_zip | cus_phone  | cus_join_date | cus_app_cd | cus_app_num | tot_ord_qty | tot_ord_value\n",
       "2600   | nan     | Holzer        | Yeni           | 8617        | High Noon Street      | Hattiesburg    | 17        | 39401   | 7833472627 | 2020-11-22    | 5          | OPC85554622 | 60          | 10641.5\n",
       "2601   | nan     | Hull          | Tancredo       | 7673        | Cedat Camp Road       | Oswego         | 19        | 13126   | 5154255063 | 2020-04-19    | 9          | OPC86688258 | 49          | 24585.6\n",
       "2602   | nan     | Sokol         | Teodor         | 965         | Southampton           | Salt Lake City | 26        | 84119   | 8802052764 | 2020-04-15    | 14         | OPC87710870 | 48          | 8514.29\n",
       "2603   | nan     | Barnes        | Theo           | 270         | High Noon Ave         | Coram          | 19        | 11727   | 2779494240 | 2020-09-14    | 18         | OPC78993136 | 76          | 19173.1\n",
       "2604   | nan     | Tempest       | Simone         | 751         | East Shadow Brook Dr. | Pataskala      | 20        | 43062   | 7692163675 | 2020-06-24    | 11         | OPC86812641 | 45          | 27325.7\n",
       "2605   | nan     | Bullock       | Pankaj         | 7524        | Van Dyke St.          | Southampton    | 22        | 18966   | 2812450867 | 2020-03-20    | 3          | OPC85939415 | 11          | 1214.88\n",
       "2606   | nan     | Ware          | Reina          | 656         | Grand Ave             | Los Angeles    | 4         | 90008   | 3902290668 | 2020-09-21    | 6          | OPC86472716 | 64          | 6718.85\n",
       "2607   | nan     | Ray           | Rosalin        | 8564        | Old Woodland Rd       | Cranston       | 23        | 2920    | 7944432375 | 2020-06-06    | 9          | OPC87091916 | 43          | 14012.6\n",
       "2608   | nan     | Stark         | Herb           | 7291        | Race St.              | Ithaca         | 19        | 14850   | 2978433949 | 2020-06-27    | 5          | OPC87321099 | 28          | 4054.52\n",
       "2609   | nan     | Bohme         | Bohuslav       | 135         | Homewood Ln           | Merrimack      | 19        | 3054    | 3147113467 | 2020-12-12    | 19         | OPC86853764 | 96          | 15178.4\n",
       "... (2609 rows omitted)"
      ]
     },
     "execution_count": 12,
     "metadata": {
     },
     "output_type": "execute_result"
    }
   ],
   "source": [
   ]
  },
  {
   "cell_type": "markdown",
   "metadata": {
    "collapsed": false
   },
   "source": [
    "##### 1st Additional Query\n",
    "\n"
   ]
  },
  {
   "cell_type": "code",
   "execution_count": 120,
   "metadata": {
    "collapsed": false
   },
   "outputs": [
   ],
   "source": [
    "#Though so far the distributions are fairly normal. OPC should consider making a 4th warehouse on the east coast. In the geography of where they are located there is a way farther gap than needed for orders on the east coast. Providing 4 warehouses there will not only help decrease shipping time to them but also allow the company to store more bikes."
   ]
  },
  {
   "cell_type": "markdown",
   "metadata": {
    "collapsed": false
   },
   "source": [
    "##### 2nd Additional Query\n",
    "\n"
   ]
  },
  {
   "cell_type": "code",
   "execution_count": 0,
   "metadata": {
    "collapsed": false
   },
   "outputs": [
   ],
   "source": [
    "#They should be made aware of how many people order within the first week of joining. They have a good number with over 47%, but they could always increase with a few marketing tricks and strategies such as a little discount for joining and first time ordering. This will likely lure customers to join and sign up, creating a more loyal customer to buy from them."
   ]
  },
  {
   "cell_type": "markdown",
   "metadata": {
    "collapsed": false
   },
   "source": [
    "### Project Conclusions.\n",
    "\n",
    "##### This section should include a review of the questions asked and plain language answers to those questions. This is the overall feedback section to the OPC leadership. Draw any conclusions you have here.\n",
    "\n"
   ]
  },
  {
   "cell_type": "markdown",
   "metadata": {
    "collapsed": false
   },
   "source": [
    "Sales for OPC are somewhat consistent for the past two decades.\n",
    "\n",
    "**What is the most popular configuration \\(Brand and components\\) of mountain bikes sold by OPC over the available period? What are the most/least successful bikes?**\n",
    "\n",
    "- The most popular Configuration for components is the handlebar with the least popular being the Missing SKU. The most popular supplier is 28. The most popular Bike is the Altitude Full\\-Suspension Mountain Bike, and the least popular is the SB100 Full\\-Suspension Mountain Bike.\n",
    "\n",
    "None of the warehouses are used disproportionately \\(assuming each warehouse has the facilities to handle the same workload\\).\n",
    "\n",
    "The three warehouses processed a total inventory amount of 2599 over the reported period.\n",
    "\n",
    "All the warehouses are shipping orders from outside their region. Each warehouse ships to every state, in a fairly even distribution spread.\n",
    "\n",
    "Just under half \\(47%\\) of customers ordered a bike over a week after joining.\n",
    "\n",
    "Ohio, Virginia, and West Virginia are the three highest count/cost buyer states.\n",
    "\n",
    "If the customers bought quality bikes, then they won't be buying again soon but they will most likely buy again.\n",
    "\n",
    "Orders heavily come from the East Coast, where the closest warehouse is almost into the Midwest.\n",
    "\n",
    "Given only three customers ordered a bike within a week of ordering, a marketing campaign for first\\-time buyers & joiners might help lure customers to OPC stores.\n"
   ]
  },
  {
   "cell_type": "markdown",
   "metadata": {
    "collapsed": false
   },
   "source": [
    "### Future Recommendations.\n",
    "\n"
   ]
  },
  {
   "cell_type": "markdown",
   "metadata": {
    "collapsed": false
   },
   "source": [
    "In order to increase sales, we suggest looking into streamlining warehouse efficiency. Make sure customers' orders get matched to a respective warehouse that makes sense geographically. Also, consider diversifying smaller warehouses across the nation instead of three large entities. This will help focus on supplying the people where they are already at. If nothing else, a fourth warehouse on the East Coast would help given the high amount of demand coming from states in the area. We also suggest focusing marketing efforts on the Altitude Full\\-Suspension Mountain Bike, and possibly discontinuing, or at least reviewing in greater detail, the SB100 Full\\-Suspension Mountain Bike. Additionally, looking into creating a first\\-time discount if a new customer order and joins at the same time might be worth it, so that they sign up sooner and they get more offers and whatever other ads you want to send them.\n"
   ]
  }
 ],
 "metadata": {
  "kernelspec": {
   "argv": [
    "/usr/bin/python3",
    "-m",
    "ipykernel",
    "--HistoryManager.enabled=False",
    "--matplotlib=inline",
    "-c",
    "%config InlineBackend.figure_formats = set(['retina'])\nimport matplotlib; matplotlib.rcParams['figure.figsize'] = (12, 7)",
    "-f",
    "{connection_file}"
   ],
   "display_name": "Python 3 (system-wide)",
   "env": {
   },
   "language": "python",
   "metadata": {
    "cocalc": {
     "description": "Python 3 programming language",
     "priority": 100,
     "url": "https://www.python.org/"
    }
   },
   "name": "python3",
   "resource_dir": "/ext/jupyter/kernels/python3"
  },
  "language_info": {
   "codemirror_mode": {
    "name": "ipython",
    "version": 3
   },
   "file_extension": ".py",
   "mimetype": "text/x-python",
   "name": "python",
   "nbconvert_exporter": "python",
   "pygments_lexer": "ipython3",
   "version": "3.8.10"
  }
 },
 "nbformat": 4,
 "nbformat_minor": 4
}